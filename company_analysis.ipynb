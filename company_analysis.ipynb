{
 "cells": [
  {
   "cell_type": "markdown",
   "metadata": {},
   "source": [
    "# Find the trend of cost"
   ]
  },
  {
   "cell_type": "code",
   "execution_count": null,
   "metadata": {},
   "outputs": [],
   "source": [
    "import pandas as pd\n",
    "\n",
    "claims = pd.read_csv(\"output/SCB/itemized-for-STANDARD CHARTERED BANK GHANA LTD-from-2022-02-15-to-2024-12-02.csv\")\n",
    "benefit = pd.read_csv(\"output/SCB/benefits.csv\")"
   ]
  },
  {
   "cell_type": "code",
   "execution_count": null,
   "metadata": {},
   "outputs": [],
   "source": [
    "pd.options.display.float_format = '{:,.2f}'.format\n",
    "claims['DateofAttendance'] = pd.to_datetime(claims['DateofAttendance'])\n",
    "claims['Year'] = claims['DateofAttendance'].dt.year\n",
    "claims['Month'] = claims['DateofAttendance'].dt.month\n",
    "claims['Week'] = claims['DateofAttendance'].dt.isocalendar().week\n",
    "grouped_claims = claims.groupby(by=['Year','Week']).agg(cost=('Claimed','sum')).reset_index()\n",
    "grouped_claims"
   ]
  }
 ],
 "metadata": {
  "kernelspec": {
   "display_name": ".venv",
   "language": "python",
   "name": "python3"
  },
  "language_info": {
   "codemirror_mode": {
    "name": "ipython",
    "version": 3
   },
   "file_extension": ".py",
   "mimetype": "text/x-python",
   "name": "python",
   "nbconvert_exporter": "python",
   "pygments_lexer": "ipython3",
   "version": "3.11.9"
  }
 },
 "nbformat": 4,
 "nbformat_minor": 2
}
